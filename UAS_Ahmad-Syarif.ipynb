{
 "cells": [
  {
   "cell_type": "code",
   "execution_count": 1,
   "metadata": {},
   "outputs": [],
   "source": [
    "from sklearn.datasets import load_digits\n",
    "from sklearn.model_selection import train_test_split\n",
    "from sklearn.neural_network import MLPClassifier\n",
    "from sklearn.metrics import accuracy_score\n",
    "from sklearn.metrics import confusion_matrix\n",
    "import seaborn as sns"
   ]
  },
  {
   "cell_type": "code",
   "execution_count": 2,
   "metadata": {},
   "outputs": [],
   "source": [
    "digits = load_digits()"
   ]
  },
  {
   "cell_type": "code",
   "execution_count": 3,
   "metadata": {},
   "outputs": [
    {
     "data": {
      "text/plain": [
       "(1797, 64)"
      ]
     },
     "execution_count": 3,
     "metadata": {},
     "output_type": "execute_result"
    }
   ],
   "source": [
    "digits.data.shape"
   ]
  },
  {
   "cell_type": "code",
   "execution_count": 4,
   "metadata": {},
   "outputs": [
    {
     "data": {
      "text/plain": [
       "array([ 0.,  0., 10., 14., 11.,  3.,  0.,  0.,  0.,  4., 16., 13.,  6.,\n",
       "       14.,  1.,  0.,  0.,  4., 16.,  2.,  0., 11.,  7.,  0.,  0.,  8.,\n",
       "       16.,  0.,  0., 10.,  5.,  0.,  0.,  8., 16.,  0.,  0., 14.,  4.,\n",
       "        0.,  0.,  8., 16.,  0.,  1., 16.,  1.,  0.,  0.,  4., 16.,  1.,\n",
       "       11., 15.,  0.,  0.,  0.,  0., 11., 16., 12.,  3.,  0.,  0.])"
      ]
     },
     "execution_count": 4,
     "metadata": {},
     "output_type": "execute_result"
    }
   ],
   "source": [
    "digits.data[30]"
   ]
  },
  {
   "cell_type": "code",
   "execution_count": 5,
   "metadata": {},
   "outputs": [
    {
     "data": {
      "text/plain": [
       "array([0, 1, 2, 3, 4, 5, 6, 7, 8, 9])"
      ]
     },
     "execution_count": 5,
     "metadata": {},
     "output_type": "execute_result"
    }
   ],
   "source": [
    "digits.target_names"
   ]
  },
  {
   "cell_type": "code",
   "execution_count": 6,
   "metadata": {},
   "outputs": [
    {
     "data": {
      "text/plain": [
       "(1797,)"
      ]
     },
     "execution_count": 6,
     "metadata": {},
     "output_type": "execute_result"
    }
   ],
   "source": [
    "digits.target.shape"
   ]
  },
  {
   "cell_type": "code",
   "execution_count": 7,
   "metadata": {},
   "outputs": [
    {
     "data": {
      "text/plain": [
       "9"
      ]
     },
     "execution_count": 7,
     "metadata": {},
     "output_type": "execute_result"
    }
   ],
   "source": [
    "digits.target[9]"
   ]
  },
  {
   "cell_type": "code",
   "execution_count": 9,
   "metadata": {},
   "outputs": [
    {
     "data": {
      "text/plain": [
       "<matplotlib.image.AxesImage at 0x18a7e0d30f0>"
      ]
     },
     "execution_count": 9,
     "metadata": {},
     "output_type": "execute_result"
    },
    {
     "data": {
      "text/plain": [
       "<Figure size 432x288 with 0 Axes>"
      ]
     },
     "metadata": {},
     "output_type": "display_data"
    },
    {
     "data": {
      "image/png": "[encoded data removed]",
      "text/plain": [
       "<Figure size 288x288 with 1 Axes>"
      ]
     },
     "metadata": {
      "needs_background": "light"
     },
     "output_type": "display_data"
    }
   ],
   "source": [
    "import matplotlib.pyplot as plt \n",
    "plt.gray() \n",
    "plt.matshow(digits.images[9])"
   ]
  },
  {
   "cell_type": "code",
   "execution_count": 10,
   "metadata": {},
   "outputs": [],
   "source": [
    "X = digits.data\n",
    "y = digits.target\n",
    "# Membagi data training dan testing(80:20)\n",
    "x_train, x_test, y_train, y_test = train_test_split(X,y, test_size= 0.2, random_state=1)"
   ]
  },
  {
   "cell_type": "code",
   "execution_count": 11,
   "metadata": {},
   "outputs": [
    {
     "data": {
      "text/plain": [
       "(1437, 64)"
      ]
     },
     "execution_count": 11,
     "metadata": {},
     "output_type": "execute_result"
    }
   ],
   "source": [
    "x_train.shape"
   ]
  },
  {
   "cell_type": "code",
   "execution_count": 12,
   "metadata": {},
   "outputs": [
    {
     "data": {
      "text/plain": [
       "(360, 64)"
      ]
     },
     "execution_count": 12,
     "metadata": {},
     "output_type": "execute_result"
    }
   ],
   "source": [
    "x_test.shape"
   ]
  },
  {
   "cell_type": "code",
   "execution_count": 13,
   "metadata": {},
   "outputs": [
    {
     "data": {
      "text/plain": [
       "(1437,)"
      ]
     },
     "execution_count": 13,
     "metadata": {},
     "output_type": "execute_result"
    }
   ],
   "source": [
    "y_train.shape"
   ]
  },
  {
   "cell_type": "code",
   "execution_count": 14,
   "metadata": {},
   "outputs": [
    {
     "data": {
      "text/plain": [
       "(360,)"
      ]
     },
     "execution_count": 14,
     "metadata": {},
     "output_type": "execute_result"
    }
   ],
   "source": [
    "y_test.shape"
   ]
  },
  {
   "cell_type": "code",
   "execution_count": 15,
   "metadata": {},
   "outputs": [],
   "source": [
    "clf = MLPClassifier(hidden_layer_sizes=(100),  max_iter=1000, alpha=0.0001,activation='relu',\n",
    "                     solver='adam', verbose=10,  random_state=21, tol=0.0001)"
   ]
  },
  {
   "cell_type": "code",
   "execution_count": 16,
   "metadata": {},
   "outputs": [
    {
     "name": "stdout",
     "output_type": "stream",
     "text": [
      "Iteration 1, loss = 8.28563584\n",
      "Iteration 2, loss = 4.39994682\n",
      "Iteration 3, loss = 2.61035695\n",
      "Iteration 4, loss = 1.60273481\n",
      "Iteration 5, loss = 1.08158794\n",
      "Iteration 6, loss = 0.73197718\n",
      "Iteration 7, loss = 0.57011103\n",
      "Iteration 8, loss = 0.44461405\n",
      "Iteration 9, loss = 0.36807801\n",
      "Iteration 10, loss = 0.31163948\n",
      "Iteration 11, loss = 0.26911795\n",
      "Iteration 12, loss = 0.23604193\n",
      "Iteration 13, loss = 0.20968755\n",
      "Iteration 14, loss = 0.18869052\n",
      "Iteration 15, loss = 0.16860907\n",
      "Iteration 16, loss = 0.15133285\n",
      "Iteration 17, loss = 0.13996578\n",
      "Iteration 18, loss = 0.12841746\n",
      "Iteration 19, loss = 0.12082356\n",
      "Iteration 20, loss = 0.11255799\n",
      "Iteration 21, loss = 0.10326441\n",
      "Iteration 22, loss = 0.09757576\n",
      "Iteration 23, loss = 0.09085487\n",
      "Iteration 24, loss = 0.08547298\n",
      "Iteration 25, loss = 0.08110172\n",
      "Iteration 26, loss = 0.07690818\n",
      "Iteration 27, loss = 0.07288185\n",
      "Iteration 28, loss = 0.06958628\n",
      "Iteration 29, loss = 0.06491769\n",
      "Iteration 30, loss = 0.06184303\n",
      "Iteration 31, loss = 0.05835381\n",
      "Iteration 32, loss = 0.05644787\n",
      "Iteration 33, loss = 0.05273167\n",
      "Iteration 34, loss = 0.05067375\n",
      "Iteration 35, loss = 0.04818483\n",
      "Iteration 36, loss = 0.04549777\n",
      "Iteration 37, loss = 0.04353356\n",
      "Iteration 38, loss = 0.04290545\n",
      "Iteration 39, loss = 0.04108478\n",
      "Iteration 40, loss = 0.04145013\n",
      "Iteration 41, loss = 0.03818736\n",
      "Iteration 42, loss = 0.03664536\n",
      "Iteration 43, loss = 0.03482538\n",
      "Iteration 44, loss = 0.03285445\n",
      "Iteration 45, loss = 0.03166953\n",
      "Iteration 46, loss = 0.03037318\n",
      "Iteration 47, loss = 0.02899179\n",
      "Iteration 48, loss = 0.02819367\n",
      "Iteration 49, loss = 0.02707377\n",
      "Iteration 50, loss = 0.02656542\n",
      "Iteration 51, loss = 0.02606111\n",
      "Iteration 52, loss = 0.02724962\n",
      "Iteration 53, loss = 0.02444200\n",
      "Iteration 54, loss = 0.02348586\n",
      "Iteration 55, loss = 0.02209451\n",
      "Iteration 56, loss = 0.02110966\n",
      "Iteration 57, loss = 0.02087058\n",
      "Iteration 58, loss = 0.02017327\n",
      "Iteration 59, loss = 0.01930343\n",
      "Iteration 60, loss = 0.01866089\n",
      "Iteration 61, loss = 0.02035371\n",
      "Iteration 62, loss = 0.01745265\n",
      "Iteration 63, loss = 0.01743695\n",
      "Iteration 64, loss = 0.01629488\n",
      "Iteration 65, loss = 0.01597309\n",
      "Iteration 66, loss = 0.01558374\n",
      "Iteration 67, loss = 0.01506297\n",
      "Iteration 68, loss = 0.01470425\n",
      "Iteration 69, loss = 0.01434209\n",
      "Iteration 70, loss = 0.01417999\n",
      "Iteration 71, loss = 0.01379167\n",
      "Iteration 72, loss = 0.01325898\n",
      "Iteration 73, loss = 0.01304104\n",
      "Iteration 74, loss = 0.01284093\n",
      "Iteration 75, loss = 0.01241641\n",
      "Iteration 76, loss = 0.01201904\n",
      "Iteration 77, loss = 0.01178135\n",
      "Iteration 78, loss = 0.01160888\n",
      "Iteration 79, loss = 0.01128926\n",
      "Iteration 80, loss = 0.01110019\n",
      "Iteration 81, loss = 0.01082606\n",
      "Iteration 82, loss = 0.01051866\n",
      "Iteration 83, loss = 0.01082902\n",
      "Iteration 84, loss = 0.01066362\n",
      "Iteration 85, loss = 0.01001081\n",
      "Iteration 86, loss = 0.01008406\n",
      "Iteration 87, loss = 0.00974335\n",
      "Iteration 88, loss = 0.00921632\n",
      "Iteration 89, loss = 0.00897690\n",
      "Iteration 90, loss = 0.00870520\n",
      "Iteration 91, loss = 0.00853994\n",
      "Iteration 92, loss = 0.00853659\n",
      "Iteration 93, loss = 0.00824537\n",
      "Iteration 94, loss = 0.00820808\n",
      "Iteration 95, loss = 0.00787566\n",
      "Iteration 96, loss = 0.00767127\n",
      "Iteration 97, loss = 0.00753229\n",
      "Iteration 98, loss = 0.00734085\n",
      "Iteration 99, loss = 0.00709419\n",
      "Iteration 100, loss = 0.00702518\n",
      "Iteration 101, loss = 0.00689603\n",
      "Iteration 102, loss = 0.00673540\n",
      "Iteration 103, loss = 0.00655235\n",
      "Iteration 104, loss = 0.00644451\n",
      "Iteration 105, loss = 0.00631505\n",
      "Iteration 106, loss = 0.00617330\n",
      "Iteration 107, loss = 0.00615207\n",
      "Iteration 108, loss = 0.00598807\n",
      "Iteration 109, loss = 0.00586347\n",
      "Iteration 110, loss = 0.00574698\n",
      "Iteration 111, loss = 0.00565659\n",
      "Iteration 112, loss = 0.00555935\n",
      "Iteration 113, loss = 0.00547543\n",
      "Iteration 114, loss = 0.00543597\n",
      "Iteration 115, loss = 0.00550273\n",
      "Iteration 116, loss = 0.00526604\n",
      "Iteration 117, loss = 0.00518099\n",
      "Iteration 118, loss = 0.00497546\n",
      "Iteration 119, loss = 0.00492330\n",
      "Iteration 120, loss = 0.00482234\n",
      "Iteration 121, loss = 0.00468627\n",
      "Iteration 122, loss = 0.00469504\n",
      "Iteration 123, loss = 0.00452726\n",
      "Iteration 124, loss = 0.00444296\n",
      "Iteration 125, loss = 0.00436006\n",
      "Iteration 126, loss = 0.00430750\n",
      "Iteration 127, loss = 0.00422509\n",
      "Iteration 128, loss = 0.00419644\n",
      "Iteration 129, loss = 0.00409515\n",
      "Iteration 130, loss = 0.00405098\n",
      "Iteration 131, loss = 0.00396458\n",
      "Iteration 132, loss = 0.00385497\n",
      "Iteration 133, loss = 0.00384001\n",
      "Iteration 134, loss = 0.00375799\n",
      "Iteration 135, loss = 0.00368410\n",
      "Iteration 136, loss = 0.00366116\n",
      "Iteration 137, loss = 0.00357431\n",
      "Iteration 138, loss = 0.00351856\n",
      "Iteration 139, loss = 0.00347014\n",
      "Iteration 140, loss = 0.00340076\n",
      "Iteration 141, loss = 0.00338990\n",
      "Iteration 142, loss = 0.00332299\n",
      "Iteration 143, loss = 0.00324705\n",
      "Training loss did not improve more than tol=0.000100 for 10 consecutive epochs. Stopping.\n"
     ]
    }
   ],
   "source": [
    "clf.fit(x_train, y_train)\n",
    "y_pred = clf.predict(x_test)\n"
   ]
  },
  {
   "cell_type": "code",
   "execution_count": 17,
   "metadata": {},
   "outputs": [],
   "source": [
    "loss_values = clf.loss_curve_"
   ]
  },
  {
   "cell_type": "code",
   "execution_count": 18,
   "metadata": {},
   "outputs": [
    {
     "data": {
      "text/plain": [
       "[<matplotlib.lines.Line2D at 0x18a7e112320>]"
      ]
     },
     "execution_count": 18,
     "metadata": {},
     "output_type": "execute_result"
    },
    {
     "data": {
      "image/png": "[encoded data removed]",
      "text/plain": [
       "<Figure size 432x288 with 1 Axes>"
      ]
     },
     "metadata": {
      "needs_background": "light"
     },
     "output_type": "display_data"
    }
   ],
   "source": [
    "plt.plot(loss_values)"
   ]
  },
  {
   "cell_type": "code",
   "execution_count": 19,
   "metadata": {},
   "outputs": [
    {
     "data": {
      "text/plain": [
       "0.98"
      ]
     },
     "execution_count": 19,
     "metadata": {},
     "output_type": "execute_result"
    }
   ],
   "source": [
    "round(accuracy_score(y_test, y_pred),2)"
   ]
  },
  {
   "cell_type": "code",
   "execution_count": 20,
   "metadata": {},
   "outputs": [
    {
     "data": {
      "text/plain": [
       "array([[42,  0,  0,  0,  1,  0,  0,  0,  0,  0],\n",
       "       [ 0, 34,  0,  0,  0,  0,  0,  0,  0,  1],\n",
       "       [ 0,  0, 36,  0,  0,  0,  0,  0,  0,  0],\n",
       "       [ 0,  0,  0, 41,  0,  0,  0,  0,  0,  0],\n",
       "       [ 0,  0,  0,  0, 37,  0,  0,  1,  0,  0],\n",
       "       [ 0,  0,  0,  0,  0, 30,  0,  0,  0,  0],\n",
       "       [ 0,  0,  0,  0,  0,  0, 37,  0,  0,  0],\n",
       "       [ 0,  0,  0,  0,  0,  0,  0, 36,  0,  1],\n",
       "       [ 0,  0,  0,  1,  0,  0,  0,  0, 27,  1],\n",
       "       [ 0,  0,  0,  0,  0,  1,  0,  0,  0, 33]], dtype=int64)"
      ]
     },
     "execution_count": 20,
     "metadata": {},
     "output_type": "execute_result"
    }
   ],
   "source": [
    "cm = confusion_matrix(y_test, y_pred)\n",
    "cm"
   ]
  },
  {
   "cell_type": "code",
   "execution_count": 21,
   "metadata": {},
   "outputs": [
    {
     "data": {
      "image/png": "[encoded data removed]",
      "text/plain": [
       "<Figure size 432x288 with 2 Axes>"
      ]
     },
     "metadata": {
      "needs_background": "light"
     },
     "output_type": "display_data"
    }
   ],
   "source": [
    "sns.heatmap(cm, center=True,annot=True)\n",
    "plt.show()"
   ]
  },
  {
   "cell_type": "code",
   "execution_count": 22,
   "metadata": {
    "scrolled": true
   },
   "outputs": [
    {
     "data": {
      "image/png": "[encoded data removed]",
      "text/plain": [
       "<Figure size 216x216 with 1 Axes>"
      ]
     },
     "metadata": {
      "needs_background": "light"
     },
     "output_type": "display_data"
    }
   ],
   "source": [
    "plt.figure(1, figsize=(3, 3))\n",
    "plt.imshow(digits.images[9], cmap=plt.cm.gray_r, interpolation='nearest')\n",
    "plt.show()"
   ]
  },
  {
   "cell_type": "code",
   "execution_count": null,
   "metadata": {},
   "outputs": [],
   "source": []
  },
  {
   "cell_type": "code",
   "execution_count": null,
   "metadata": {},
   "outputs": [],
   "source": []
  }
 ],
 "metadata": {
  "kernelspec": {
   "display_name": "Python 3",
   "language": "python",
   "name": "python3"
  },
  "language_info": {
   "codemirror_mode": {
    "name": "ipython",
    "version": 3
   },
   "file_extension": ".py",
   "mimetype": "text/x-python",
   "name": "python",
   "nbconvert_exporter": "python",
   "pygments_lexer": "ipython3",
   "version": "3.7.0"
  }
 },
 "nbformat": 4,
 "nbformat_minor": 2
}
